{
  "cells": [
    {
      "cell_type": "markdown",
      "metadata": {
        "id": "view-in-github"
      },
      "source": [
        "[![Open In Colab](https://colab.research.google.com/assets/colab-badge.svg)](https://colab.research.google.com/github/camenduru/dreamgaussian4d-colab/blob/main/dreamgaussian4d_colab.ipynb)"
      ]
    },
    {
      "cell_type": "code",
      "execution_count": null,
      "metadata": {
        "id": "VjYy0F2gZIPR"
      },
      "outputs": [],
      "source": [
        "%cd /content\n",
        "!git clone -b dev https://github.com/camenduru/dreamgaussian4d\n",
        "%cd /content/dreamgaussian4d\n",
        "\n",
        "!pip install -q rembg accelerate plyfile trimesh pymeshlab omegaconf\n",
        "\n",
        "!pip install ./diffusers\n",
        "# !pip install -r requirements.txt\n",
        "\n",
        "!git clone --recursive https://github.com/ashawkey/diff-gaussian-rasterization\n",
        "!pip install ./diff-gaussian-rasterization\n",
        "!pip install ./simple-knn\n",
        "!pip install git+https://github.com/NVlabs/nvdiffrast/\n",
        "!pip install git+https://github.com/ashawkey/kiuikit"
      ]
    },
    {
      "cell_type": "code",
      "execution_count": null,
      "metadata": {},
      "outputs": [],
      "source": [
        "# generate driving video\n",
        "!python gen_vid.py --name anya_rgba --seed 42 --bg white"
      ]
    },
    {
      "cell_type": "code",
      "execution_count": null,
      "metadata": {},
      "outputs": [],
      "source": [
        "# Stage I: train 500 iters (~2min) and export ckpt & coarse_mesh to logs\n",
        "!python main.py --config configs/image.yaml input=data/anya_rgba.png save_path=anya"
      ]
    },
    {
      "cell_type": "code",
      "execution_count": null,
      "metadata": {},
      "outputs": [],
      "source": [
        "# Stage II: temporal optimization stage\n",
        "!python main_4d.py --config configs/4d.yaml input=data/anya_rgba.png save_path=anya"
      ]
    },
    {
      "cell_type": "code",
      "execution_count": null,
      "metadata": {},
      "outputs": [],
      "source": [
        "# Stage III: texture optimization (optional, it requires large GPU memory and we are optimzing it)\n",
        "!python main2_4d.py --config configs/4d_svd.yaml input=data/anya_rgba.png save_path=anya"
      ]
    },
    {
      "cell_type": "code",
      "execution_count": null,
      "metadata": {},
      "outputs": [],
      "source": [
        "# to turn on viser GUI, add `gui=True`, e.g.:\n",
        "!python main.py --config configs/image.yaml input=data/anya_rgba.png save_path=anya gui=True"
      ]
    }
  ],
  "metadata": {
    "accelerator": "GPU",
    "colab": {
      "gpuType": "T4",
      "provenance": []
    },
    "kernelspec": {
      "display_name": "Python 3",
      "name": "python3"
    },
    "language_info": {
      "name": "python"
    }
  },
  "nbformat": 4,
  "nbformat_minor": 0
}
